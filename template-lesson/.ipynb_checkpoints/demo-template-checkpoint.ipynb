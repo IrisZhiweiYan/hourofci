{
 "cells": [
  {
   "cell_type": "code",
   "execution_count": 27,
   "metadata": {
    "hide_input": false,
    "init_cell": true,
    "slideshow": {
     "slide_type": "skip"
    }
   },
   "outputs": [
    {
     "data": {
      "text/html": [
       "\n",
       "    <!-- Hide output indicators (e.g. `Out [4]:`) -->\n",
       "    <style>\n",
       "        .output_prompt{opacity:0;}\n",
       "    </style>\n",
       "    \n",
       "    "
      ],
      "text/plain": [
       "<IPython.core.display.HTML object>"
      ]
     },
     "metadata": {},
     "output_type": "display_data"
    }
   ],
   "source": [
    "# There are three code cells at the beginning of every notebook.\n",
    "# They are automatically run when the notebook is loaded.\n",
    "\n",
    "# In the first cell:\n",
    "#     import the packages we need to use\n",
    "#     run HTML code to hide output indicators\n",
    "    \n",
    "from IPython.display import HTML\n",
    "from IPython.display import display\n",
    "from IPython.display import Javascript\n",
    "\n",
    "# package for hourofci project\n",
    "import sys\n",
    "sys.path.append('../') # relative path (may change)\n",
    "import hourofci\n",
    "\n",
    "# packages added based on the lesson content\n",
    "from IPython.display import IFrame\n",
    "import getpass # Retrieve username\n",
    "import ipywidgets as widgets\n",
    "from ipywidgets import Layout\n",
    "\n",
    "\n",
    "tag = HTML('''\n",
    "    <!-- Hide output indicators (e.g. `Out [4]:`) -->\n",
    "    <style>\n",
    "        .output_prompt{opacity:0;}\n",
    "    </style>\n",
    "    \n",
    "    ''')\n",
    "display(tag)"
   ]
  },
  {
   "cell_type": "code",
   "execution_count": 28,
   "metadata": {
    "editable": false,
    "hide_input": false,
    "init_cell": true,
    "slideshow": {
     "slide_type": "skip"
    }
   },
   "outputs": [
    {
     "data": {
      "application/javascript": [
       "\n",
       "IPython.notebook.kernel.execute(\"user_agent = \" + \"'\" + navigator.userAgent + \"'\");\n"
      ],
      "text/plain": [
       "<IPython.core.display.Javascript object>"
      ]
     },
     "execution_count": 28,
     "metadata": {},
     "output_type": "execute_result"
    }
   ],
   "source": [
    "# In the second cell\n",
    "#     retreive the user agent string \n",
    "#     and it will be passed to the hourofci submit button\n",
    "\n",
    "agent_js = \"\"\"\n",
    "IPython.notebook.kernel.execute(\"user_agent = \" + \"'\" + navigator.userAgent + \"'\");\n",
    "\"\"\"\n",
    "Javascript(agent_js)"
   ]
  },
  {
   "cell_type": "code",
   "execution_count": 29,
   "metadata": {
    "hide_input": false,
    "init_cell": true,
    "slideshow": {
     "slide_type": "skip"
    }
   },
   "outputs": [
    {
     "data": {
      "application/javascript": [
       "\n",
       "Jupyter.notebook.execute_cells([9]);\n"
      ],
      "text/plain": [
       "<IPython.core.display.Javascript object>"
      ]
     },
     "execution_count": 29,
     "metadata": {},
     "output_type": "execute_result"
    }
   ],
   "source": [
    "# In the third cell\n",
    "#     run the code cells you want to initialize when the notebook is opened\n",
    "#     especailly the cells including the hourofci buttons\n",
    "#     because \"init_cell\" does not work for the hourofci buttons\n",
    "#\n",
    "# Note: the index numbers of cells count from 0\n",
    "\n",
    "execute_js = \"\"\"\n",
    "Jupyter.notebook.execute_cells([9]);\n",
    "\"\"\"\n",
    "Javascript(execute_js)"
   ]
  },
  {
   "cell_type": "markdown",
   "metadata": {},
   "source": [
    "**Notes:**  \n",
    "Code in the second and the third cell cannot be put together in one cell, although both of them are used to run Javascript."
   ]
  },
  {
   "cell_type": "markdown",
   "metadata": {},
   "source": [
    "**Next Step: Edit metadata**  \n",
    "For the three code cells we insert above, we need to edit the metadata.   \n",
    "\n",
    "Go to Toolbar > View > Metadata. Click \"Edit Metadata\" on the top right of the cell. Copy the JSON below to the box.\n",
    "```\n",
    "{\n",
    "  \"editable\": false,\n",
    "  \"hide_input\": true,\n",
    "  \"init_cell\": true,\n",
    "  \"slideshow\": {\n",
    "    \"slide_type\": \"skip\"\n",
    "  },\n",
    "  \"trusted\": true\n",
    "}\n",
    "```\n",
    "\n",
    "**Notes:**  \n",
    "1.. The **\"init_cell\"** attribute can also be edited by going to Toolbar > View > Initialization Cell. Check the checkbox beside \"Initialization Cell\". \n",
    "\n",
    "2.. The **\"slideshow\"** attribute can also be edited by going to Toolbar > View > Slideshow. Set the Slide Type to \"Skip\"\n",
    "\n",
    "3.. When you refresh the page, you will find that the code cell input is hidden.   \n",
    "\n",
    "If you want to **display the cell and edit it**, click the **\"Toggle selected cell input display\"** button in the toolbar. You can also use this button to hide the code cell input.\n",
    "\n",
    "If you are using our HourofCI JupyterHub, the button has been in the toolbar.   \n",
    "  \n",
    "If you are using your own Jupyter Notebook and do not see the button, go to Edit > nbextension config and check \"Hide input\" to enable the extension.\n",
    "\n",
    "Be sure to hide the code cell input (by editing the metadata or click the button) **before sharing** the notebook to users."
   ]
  },
  {
   "cell_type": "markdown",
   "metadata": {},
   "source": [
    "# Lesson Title: This is a Template"
   ]
  },
  {
   "cell_type": "markdown",
   "metadata": {},
   "source": [
    "To encourage users participation, we can add some **interactive content** in the lesson. Here are some examples."
   ]
  },
  {
   "cell_type": "markdown",
   "metadata": {},
   "source": [
    "## Example 1: Using Jupyter Widgets and Submit Button\n",
    "\n",
    "**hourofci.SubmitBtn**(*user_agent*,*lesson*,*lesson_level*,*question_number*,*widget*)  \n",
    "- *lesson* (e.g., \"geospatial-data\")  \n",
    "- *lesson_level* (e.g., \"beginner\")  \n",
    "- *question* - defined behind instead of in the notebooks  \n",
    "- *widget* - the widget of which value will be submitted  \n",
    "\n",
    "**SubmitBtn** in hourofci is designed to display a submit button, which can capture the user's answer (the current value of the **widget**) and sent it to our database.\n",
    "\n",
    "If the answer is sent to our database successfully, \"Submit Successfully!\" will be printed.\n",
    "\n",
    "\n",
    "\n"
   ]
  },
  {
   "cell_type": "markdown",
   "metadata": {
    "editable": false,
    "slideshow": {
     "slide_type": "slide"
    }
   },
   "source": [
    "### How often do you ask yourself questions starting with \"Where.....\"?\n",
    "For example:\n",
    "- Where is my coat?\n",
    "- Where is my friend's house?\n",
    "- Where is our meeting place?\n",
    "- Where is the movie theater?"
   ]
  },
  {
   "cell_type": "code",
   "execution_count": 31,
   "metadata": {
    "editable": false,
    "hide_input": false,
    "init_cell": true,
    "slideshow": {
     "slide_type": "fragment"
    }
   },
   "outputs": [
    {
     "data": {
      "application/vnd.jupyter.widget-view+json": {
       "model_id": "24b10eec726649e09f4c7bace445428e",
       "version_major": 2,
       "version_minor": 0
      },
      "text/plain": [
       "RadioButtons(description='How often do I ask myself WHERE questions:', layout=Layout(width='100%'), options=('…"
      ]
     },
     "metadata": {},
     "output_type": "display_data"
    },
    {
     "data": {
      "application/vnd.jupyter.widget-view+json": {
       "model_id": "2da7a2fb640941659a6c95cf4b6e38d4",
       "version_major": 2,
       "version_minor": 0
      },
      "text/plain": [
       "Button(description='Submit', icon='check', style=ButtonStyle())"
      ]
     },
     "metadata": {},
     "output_type": "display_data"
    },
    {
     "data": {
      "application/vnd.jupyter.widget-view+json": {
       "model_id": "365b12fd275549acac4738e0c5dd80dd",
       "version_major": 2,
       "version_minor": 0
      },
      "text/plain": [
       "Output()"
      ]
     },
     "metadata": {},
     "output_type": "display_data"
    }
   ],
   "source": [
    "# This cell need to be initialized (cell[9])\n",
    "\n",
    "# Multiple choice question\n",
    "widget1 = widgets.RadioButtons(\n",
    "    options = ['never', 'monthly','weekly', 'daily', 'hourly', 'all the time'],\n",
    "    description = 'How often do I ask myself WHERE questions:', style={'description_width': 'initial'},\n",
    "    layout = Layout(width='100%'),\n",
    "    value = None\n",
    ")\n",
    "\n",
    "display(widget1)\n",
    "\n",
    "# Submit button: print and log the results\n",
    "# In this example, the question is numbered (will be verified if it is in a list)\n",
    "hourofci.SubmitBtn(user_agent,\"geospatial-data\",\"beginner\",'Q1',widget1)"
   ]
  },
  {
   "cell_type": "markdown",
   "metadata": {},
   "source": [
    "**Next Step: Edit metadata**  \n",
    "For the three code cells we insert above, we need to edit the metadata.   \n",
    "\n",
    "Go to Toolbar > View > Metadata. Click \"Edit Metadata\" on the top right of the cell. Copy the JSON below to the box.\n",
    "\n",
    "Markdown cell for the question:\n",
    "\n",
    "```\n",
    "{\n",
    "  \"editable\": false,\n",
    "  \"slideshow\": {\n",
    "    \"slide_type\": \"slide\"\n",
    "  }\n",
    "}\n",
    "```\n",
    "\n",
    "Code cell for the widget:\n",
    "```\n",
    "{\n",
    "  \"editable\": false,\n",
    "  \"hide_input\": true,\n",
    "  \"init_cell\": true,\n",
    "  \"slideshow\": {\n",
    "    \"slide_type\": \"fragment\"\n",
    "  },\n",
    "  \"trusted\": true\n",
    "}\n",
    "```\n",
    "\n",
    "**Note**:  \n",
    "The \"editable\" attribute can be ignored if you allow users to edit the cells."
   ]
  },
  {
   "cell_type": "markdown",
   "metadata": {},
   "source": [
    "## Example 2: Using D3  \n",
    "\n",
    "If the answer is sent to our database, a message \"The answer is true/false\" will also be written to the console."
   ]
  },
  {
   "cell_type": "markdown",
   "metadata": {
    "variables": {
     "IFrame(\"supplementary/dresser.html\", width=620, height=630)": "\n        <iframe\n            width=\"620\"\n            height=\"630\"\n            src=\"supplementary/dresser.html\"\n            frameborder=\"0\"\n            allowfullscreen\n        ></iframe>\n        "
    }
   },
   "source": [
    "### Coordinate systems are everywhere\n",
    "They are used to label the location of things, so that we can find them again!\n",
    "\n",
    "This dresser, for example, has a coordinate system!\n",
    "- Your stuffed hippo is in the lower right drawer, go get it!\n",
    "- Stuffed hippo **coordinates**: (lower drawer, right drawer)\n",
    "\n",
    "\n",
    "{{IFrame(\"supplementary/dresser.html\", width=620, height=630)}}"
   ]
  },
  {
   "cell_type": "markdown",
   "metadata": {},
   "source": [
    "## Example 3: Playing with Code\n",
    "\n",
    "Users can explore code interactively, and our database will record if a user has tried to run the code."
   ]
  },
  {
   "cell_type": "markdown",
   "metadata": {},
   "source": [
    "<a href=\"example.ipynb\">Click here to move to the next section to learn more!</a>"
   ]
  }
 ],
 "metadata": {
  "celltoolbar": "Edit Metadata",
  "kernelspec": {
   "display_name": "Python 3",
   "language": "python",
   "name": "python3"
  },
  "language_info": {
   "codemirror_mode": {
    "name": "ipython",
    "version": 3
   },
   "file_extension": ".py",
   "mimetype": "text/x-python",
   "name": "python",
   "nbconvert_exporter": "python",
   "pygments_lexer": "ipython3",
   "version": "3.6.5"
  },
  "toc": {
   "base_numbering": 1,
   "nav_menu": {},
   "number_sections": true,
   "sideBar": true,
   "skip_h1_title": false,
   "title_cell": "Table of Contents",
   "title_sidebar": "Contents",
   "toc_cell": false,
   "toc_position": {},
   "toc_section_display": true,
   "toc_window_display": false
  }
 },
 "nbformat": 4,
 "nbformat_minor": 4
}
